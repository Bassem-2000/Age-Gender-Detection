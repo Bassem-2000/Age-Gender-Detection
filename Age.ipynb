{
 "cells": [
  {
   "cell_type": "code",
   "execution_count": 1,
   "id": "dbb0aa55-58bb-4ad1-a737-5b494581962d",
   "metadata": {},
   "outputs": [],
   "source": [
    "import tensorflow as tf\n",
    "import pandas as pd\n",
    "import numpy as np\n",
    "import matplotlib.pyplot as plt\n",
    "from keras.models import Sequential,load_model,Model\n",
    "from keras.layers import *\n",
    "from keras.preprocessing.image import ImageDataGenerator\n",
    "from keras.utils import load_img\n",
    "import cv2\n",
    "import glob\n",
    "import os\n",
    "from sklearn.model_selection import train_test_split\n",
    "from keras.applications import *\n",
    "import keras"
   ]
  },
  {
   "cell_type": "code",
   "execution_count": 12,
   "id": "e16ee8c5-8727-4d21-b39c-6000080eb721",
   "metadata": {},
   "outputs": [],
   "source": [
    "def class_labels_reassign(age):\n",
    "\n",
    "    if 0 <= age <= 10:\n",
    "        return 0\n",
    "    elif 11 <= age <= 20:\n",
    "        return 1\n",
    "    elif 21 <= age <= 30:\n",
    "        return 2\n",
    "    elif 31 <= age <= 40:\n",
    "        return 3\n",
    "    elif 41 <= age <= 50:\n",
    "        return 4\n",
    "    elif 51 <= age <= 60:\n",
    "        return 5\n",
    "    elif 61 <= age <= 70:\n",
    "        return 6\n",
    "    elif 71 <= age <= 80:\n",
    "        return 7\n",
    "    elif 81 <= age <= 90:\n",
    "        return 8\n",
    "    elif 91 <= age <= 116:\n",
    "        return 9"
   ]
  },
  {
   "cell_type": "code",
   "execution_count": 13,
   "id": "992f4132-d633-4218-8b29-9d60c1f12705",
   "metadata": {},
   "outputs": [],
   "source": [
    "age = []\n",
    "Images = []\n",
    "for i in glob.glob('UTKFace/*.jpg'):\n",
    "    if os.path.exists(i):\n",
    "        x = int(i.split('\\\\')[1].split('_')[0])\n",
    "        # if x >=0 :\n",
    "        age.append(x)\n",
    "        Images.append(i)"
   ]
  },
  {
   "cell_type": "code",
   "execution_count": 14,
   "id": "0fdaf448-2e72-4a07-9172-bd670c048b0d",
   "metadata": {},
   "outputs": [
    {
     "data": {
      "text/plain": [
       "116"
      ]
     },
     "execution_count": 14,
     "metadata": {},
     "output_type": "execute_result"
    }
   ],
   "source": [
    "max(age)"
   ]
  },
  {
   "cell_type": "code",
   "execution_count": 15,
   "id": "af98d546-02a8-4925-8fcd-47759ab48040",
   "metadata": {},
   "outputs": [
    {
     "data": {
      "text/plain": [
       "104"
      ]
     },
     "execution_count": 15,
     "metadata": {},
     "output_type": "execute_result"
    }
   ],
   "source": [
    "age = np.array(age)\n",
    "len(np.unique(age))"
   ]
  },
  {
   "cell_type": "code",
   "execution_count": 16,
   "id": "ec59fee5-1e30-44cb-8ea0-61988b406d27",
   "metadata": {},
   "outputs": [],
   "source": [
    "x_train, x_test, y_train, y_test = train_test_split(Images, age, train_size=0.8, shuffle=True, random_state=0)\n",
    "x_train, x_val, y_train, y_val = train_test_split(x_train, y_train, train_size=0.85, shuffle=True, random_state=0)"
   ]
  },
  {
   "cell_type": "code",
   "execution_count": 17,
   "id": "1296d1aa-33d6-4e3b-865d-6d6cf10e7085",
   "metadata": {},
   "outputs": [
    {
     "name": "stdout",
     "output_type": "stream",
     "text": [
      "Found 16121 validated image filenames.\n"
     ]
    }
   ],
   "source": [
    "data_gen = ImageDataGenerator(rescale=1./255)\n",
    "df_train = pd.DataFrame({'filename': x_train, 'age': y_train})\n",
    "df_train['age'] = df_train['age']\n",
    "df_train['filename'] = df_train['filename'].astype('str')\n",
    "# df_train['target'] = df_train['age'].map(class_labels_reassign) \n",
    "# df_train['target'] = df_train['target'].astype('str')\n",
    "train = data_gen.flow_from_dataframe(df_train, x_col='filename',y_col='age', target_size=(120, 120), batch_size=8, color_mode='rgb', class_mode='raw')"
   ]
  },
  {
   "cell_type": "code",
   "execution_count": 18,
   "id": "dcd7fd9f-0ac2-4cbe-99cb-62f090a06226",
   "metadata": {},
   "outputs": [
    {
     "name": "stdout",
     "output_type": "stream",
     "text": [
      "Found 4742 validated image filenames.\n"
     ]
    }
   ],
   "source": [
    "df_test = pd.DataFrame({'filename': x_test, 'age': y_test})\n",
    "df_test['age'] = df_test['age']\n",
    "df_test['filename'] = df_test['filename'].astype('str')\n",
    "# df_test['target'] = df_test['age'].map(class_labels_reassign) \n",
    "# df_test['target'] = df_test['target'].astype('str')\n",
    "test = data_gen.flow_from_dataframe(df_test, x_col='filename', y_col='age', target_size=(120, 120), batch_size=8, color_mode='rgb', class_mode='raw')"
   ]
  },
  {
   "cell_type": "code",
   "execution_count": 19,
   "id": "381a49da-e06e-48f3-afec-2ee801927c17",
   "metadata": {},
   "outputs": [
    {
     "name": "stdout",
     "output_type": "stream",
     "text": [
      "Found 2845 validated image filenames.\n"
     ]
    }
   ],
   "source": [
    "df_val = pd.DataFrame({'filename': x_val, 'age': y_val})\n",
    "df_val['age'] = df_val['age']\n",
    "df_val['filename'] = df_val['filename'].astype('str')\n",
    "# df_val['target'] = df_val['age'].map(class_labels_reassign) \n",
    "# df_val['target'] = df_val['target'].astype('str')\n",
    "val = data_gen.flow_from_dataframe(df_val, x_col='filename',y_col='age', target_size=(120, 120), batch_size=8, color_mode='rgb', class_mode='raw')"
   ]
  },
  {
   "cell_type": "code",
   "execution_count": 21,
   "id": "c7a17616-0a2c-49d8-acb9-37d4481f870b",
   "metadata": {},
   "outputs": [
    {
     "name": "stdout",
     "output_type": "stream",
     "text": [
      "Epoch 1/500\n",
      "2016/2016 [==============================] - 38s 18ms/step - loss: 256.5029 - accuracy: 0.0417 - val_loss: 197.4681 - val_accuracy: 0.0394\n",
      "Epoch 2/500\n",
      "2016/2016 [==============================] - 36s 18ms/step - loss: 191.4765 - accuracy: 0.0365 - val_loss: 177.7034 - val_accuracy: 0.0313\n",
      "Epoch 3/500\n",
      "2016/2016 [==============================] - 36s 18ms/step - loss: 177.0327 - accuracy: 0.0348 - val_loss: 168.7432 - val_accuracy: 0.0320\n",
      "Epoch 4/500\n",
      "2016/2016 [==============================] - 36s 18ms/step - loss: 168.7031 - accuracy: 0.0344 - val_loss: 164.4559 - val_accuracy: 0.0316\n",
      "Epoch 5/500\n",
      "2016/2016 [==============================] - 36s 18ms/step - loss: 165.0827 - accuracy: 0.0341 - val_loss: 161.5390 - val_accuracy: 0.0327\n",
      "Epoch 6/500\n",
      "2016/2016 [==============================] - 36s 18ms/step - loss: 160.9446 - accuracy: 0.0342 - val_loss: 159.4004 - val_accuracy: 0.0278\n",
      "Epoch 7/500\n",
      "2016/2016 [==============================] - 36s 18ms/step - loss: 157.4336 - accuracy: 0.0333 - val_loss: 156.8420 - val_accuracy: 0.0348\n",
      "Epoch 8/500\n",
      "2016/2016 [==============================] - 36s 18ms/step - loss: 155.9743 - accuracy: 0.0333 - val_loss: 155.8172 - val_accuracy: 0.0316\n",
      "Epoch 9/500\n",
      "2016/2016 [==============================] - 36s 18ms/step - loss: 153.8218 - accuracy: 0.0334 - val_loss: 153.5983 - val_accuracy: 0.0309\n",
      "Epoch 10/500\n",
      "2016/2016 [==============================] - 36s 18ms/step - loss: 153.1803 - accuracy: 0.0331 - val_loss: 153.0745 - val_accuracy: 0.0257\n",
      "Epoch 11/500\n",
      "2016/2016 [==============================] - 36s 18ms/step - loss: 151.8824 - accuracy: 0.0330 - val_loss: 155.9572 - val_accuracy: 0.0327\n",
      "Epoch 12/500\n",
      "2016/2016 [==============================] - 36s 18ms/step - loss: 150.1223 - accuracy: 0.0329 - val_loss: 150.8819 - val_accuracy: 0.0281\n",
      "Epoch 13/500\n",
      "2016/2016 [==============================] - 37s 18ms/step - loss: 149.3219 - accuracy: 0.0324 - val_loss: 150.8904 - val_accuracy: 0.0260\n",
      "Epoch 14/500\n",
      "2016/2016 [==============================] - 37s 18ms/step - loss: 148.6588 - accuracy: 0.0329 - val_loss: 151.2198 - val_accuracy: 0.0253\n",
      "Epoch 15/500\n",
      "2016/2016 [==============================] - 37s 18ms/step - loss: 148.9020 - accuracy: 0.0328 - val_loss: 151.1362 - val_accuracy: 0.0299\n",
      "Epoch 16/500\n",
      "2016/2016 [==============================] - 37s 18ms/step - loss: 147.1831 - accuracy: 0.0326 - val_loss: 149.3991 - val_accuracy: 0.0260\n",
      "Epoch 17/500\n",
      "2016/2016 [==============================] - 37s 18ms/step - loss: 147.4053 - accuracy: 0.0324 - val_loss: 151.5306 - val_accuracy: 0.0359\n",
      "Epoch 18/500\n",
      "2016/2016 [==============================] - 37s 18ms/step - loss: 146.0168 - accuracy: 0.0333 - val_loss: 148.7867 - val_accuracy: 0.0281\n",
      "Epoch 19/500\n",
      "2016/2016 [==============================] - 37s 18ms/step - loss: 145.7244 - accuracy: 0.0317 - val_loss: 151.3937 - val_accuracy: 0.0253\n",
      "Epoch 20/500\n",
      "2016/2016 [==============================] - 36s 18ms/step - loss: 146.3318 - accuracy: 0.0320 - val_loss: 147.7267 - val_accuracy: 0.0306\n",
      "Epoch 21/500\n",
      "2016/2016 [==============================] - 37s 18ms/step - loss: 145.9683 - accuracy: 0.0316 - val_loss: 148.2273 - val_accuracy: 0.0309\n",
      "Epoch 22/500\n",
      "2016/2016 [==============================] - 36s 18ms/step - loss: 145.0699 - accuracy: 0.0319 - val_loss: 148.6535 - val_accuracy: 0.0260\n",
      "Epoch 23/500\n",
      "2016/2016 [==============================] - 37s 18ms/step - loss: 144.6456 - accuracy: 0.0324 - val_loss: 148.0569 - val_accuracy: 0.0257\n",
      "Epoch 24/500\n",
      "2016/2016 [==============================] - 36s 18ms/step - loss: 145.7012 - accuracy: 0.0326 - val_loss: 148.9126 - val_accuracy: 0.0260\n",
      "Epoch 25/500\n",
      "2016/2016 [==============================] - 36s 18ms/step - loss: 144.0396 - accuracy: 0.0331 - val_loss: 148.3887 - val_accuracy: 0.0246\n",
      "Epoch 26/500\n",
      "2016/2016 [==============================] - 71s 35ms/step - loss: 143.4552 - accuracy: 0.0323 - val_loss: 147.8794 - val_accuracy: 0.0250\n",
      "Epoch 27/500\n",
      "2016/2016 [==============================] - 59s 29ms/step - loss: 142.4802 - accuracy: 0.0322 - val_loss: 146.3485 - val_accuracy: 0.0267\n",
      "Epoch 28/500\n",
      "2016/2016 [==============================] - 36s 18ms/step - loss: 142.9255 - accuracy: 0.0324 - val_loss: 146.0529 - val_accuracy: 0.0271\n",
      "Epoch 29/500\n",
      "2016/2016 [==============================] - 36s 18ms/step - loss: 141.7772 - accuracy: 0.0324 - val_loss: 146.5128 - val_accuracy: 0.0260\n",
      "Epoch 30/500\n",
      "2016/2016 [==============================] - 36s 18ms/step - loss: 143.7526 - accuracy: 0.0326 - val_loss: 148.6381 - val_accuracy: 0.0285\n",
      "Epoch 31/500\n",
      "2016/2016 [==============================] - 36s 18ms/step - loss: 141.5226 - accuracy: 0.0315 - val_loss: 146.3747 - val_accuracy: 0.0306\n",
      "Epoch 32/500\n",
      "2016/2016 [==============================] - 37s 18ms/step - loss: 142.2018 - accuracy: 0.0314 - val_loss: 147.5061 - val_accuracy: 0.0309\n",
      "Epoch 33/500\n",
      "2016/2016 [==============================] - 36s 18ms/step - loss: 141.4471 - accuracy: 0.0308 - val_loss: 148.9591 - val_accuracy: 0.0257\n",
      "Epoch 34/500\n",
      "2016/2016 [==============================] - 36s 18ms/step - loss: 142.3059 - accuracy: 0.0326 - val_loss: 146.5629 - val_accuracy: 0.0260\n",
      "Epoch 35/500\n",
      "2016/2016 [==============================] - 37s 18ms/step - loss: 141.0982 - accuracy: 0.0316 - val_loss: 158.5036 - val_accuracy: 0.0362\n",
      "Epoch 36/500\n",
      "2016/2016 [==============================] - 37s 18ms/step - loss: 141.1345 - accuracy: 0.0319 - val_loss: 145.7328 - val_accuracy: 0.0278\n",
      "Epoch 37/500\n",
      "2016/2016 [==============================] - 36s 18ms/step - loss: 141.4699 - accuracy: 0.0325 - val_loss: 148.2579 - val_accuracy: 0.0246\n",
      "Epoch 38/500\n",
      "2016/2016 [==============================] - 36s 18ms/step - loss: 141.2960 - accuracy: 0.0319 - val_loss: 148.2785 - val_accuracy: 0.0313\n",
      "Epoch 39/500\n",
      "2016/2016 [==============================] - 36s 18ms/step - loss: 141.3745 - accuracy: 0.0319 - val_loss: 145.6316 - val_accuracy: 0.0281\n",
      "Epoch 40/500\n",
      "2016/2016 [==============================] - 36s 18ms/step - loss: 140.9969 - accuracy: 0.0321 - val_loss: 149.4079 - val_accuracy: 0.0306\n",
      "Epoch 41/500\n",
      "2016/2016 [==============================] - 37s 18ms/step - loss: 141.5230 - accuracy: 0.0320 - val_loss: 145.6412 - val_accuracy: 0.0250\n",
      "Epoch 42/500\n",
      "2016/2016 [==============================] - 37s 18ms/step - loss: 140.9971 - accuracy: 0.0319 - val_loss: 145.7299 - val_accuracy: 0.0267\n",
      "Epoch 43/500\n",
      "2016/2016 [==============================] - 36s 18ms/step - loss: 140.2789 - accuracy: 0.0319 - val_loss: 146.1082 - val_accuracy: 0.0243\n",
      "Epoch 44/500\n",
      "2016/2016 [==============================] - 37s 18ms/step - loss: 140.7057 - accuracy: 0.0319 - val_loss: 146.6894 - val_accuracy: 0.0288\n",
      "Epoch 45/500\n",
      "2016/2016 [==============================] - 37s 18ms/step - loss: 140.6498 - accuracy: 0.0316 - val_loss: 150.3007 - val_accuracy: 0.0313\n",
      "Epoch 46/500\n",
      "2016/2016 [==============================] - 37s 18ms/step - loss: 140.0361 - accuracy: 0.0310 - val_loss: 145.7491 - val_accuracy: 0.0271\n",
      "Epoch 47/500\n",
      "2016/2016 [==============================] - 37s 18ms/step - loss: 140.9497 - accuracy: 0.0323 - val_loss: 146.7928 - val_accuracy: 0.0281\n",
      "Epoch 48/500\n",
      "2016/2016 [==============================] - 37s 18ms/step - loss: 140.0672 - accuracy: 0.0314 - val_loss: 148.1659 - val_accuracy: 0.0292\n",
      "Epoch 49/500\n",
      "2016/2016 [==============================] - 36s 18ms/step - loss: 141.3876 - accuracy: 0.0323 - val_loss: 147.3029 - val_accuracy: 0.0299\n",
      "Epoch 50/500\n",
      "2016/2016 [==============================] - 37s 18ms/step - loss: 139.0179 - accuracy: 0.0319 - val_loss: 148.8508 - val_accuracy: 0.0246\n",
      "Epoch 51/500\n",
      "2016/2016 [==============================] - 36s 18ms/step - loss: 139.4381 - accuracy: 0.0322 - val_loss: 146.1069 - val_accuracy: 0.0267\n",
      "Epoch 52/500\n",
      "2016/2016 [==============================] - 36s 18ms/step - loss: 140.1317 - accuracy: 0.0313 - val_loss: 145.9482 - val_accuracy: 0.0327\n",
      "Epoch 53/500\n",
      "2016/2016 [==============================] - 36s 18ms/step - loss: 139.1618 - accuracy: 0.0319 - val_loss: 145.7508 - val_accuracy: 0.0257\n",
      "Epoch 54/500\n",
      "2016/2016 [==============================] - 36s 18ms/step - loss: 140.3172 - accuracy: 0.0318 - val_loss: 148.2446 - val_accuracy: 0.0344\n",
      "Epoch 55/500\n",
      "2016/2016 [==============================] - 37s 18ms/step - loss: 139.7001 - accuracy: 0.0329 - val_loss: 145.8255 - val_accuracy: 0.0271\n",
      "Epoch 56/500\n",
      "2016/2016 [==============================] - 37s 18ms/step - loss: 138.4230 - accuracy: 0.0315 - val_loss: 145.7631 - val_accuracy: 0.0306\n",
      "Epoch 57/500\n",
      "2016/2016 [==============================] - 36s 18ms/step - loss: 139.1288 - accuracy: 0.0325 - val_loss: 146.0188 - val_accuracy: 0.0257\n",
      "Epoch 58/500\n",
      "2016/2016 [==============================] - 36s 18ms/step - loss: 139.7300 - accuracy: 0.0321 - val_loss: 146.6841 - val_accuracy: 0.0295\n",
      "Epoch 59/500\n",
      "2016/2016 [==============================] - 36s 18ms/step - loss: 138.5421 - accuracy: 0.0312 - val_loss: 148.6797 - val_accuracy: 0.0330\n",
      "Epoch 60/500\n",
      "2016/2016 [==============================] - 36s 18ms/step - loss: 138.7461 - accuracy: 0.0315 - val_loss: 145.5708 - val_accuracy: 0.0264\n",
      "Epoch 61/500\n",
      "2016/2016 [==============================] - 37s 18ms/step - loss: 139.4236 - accuracy: 0.0310 - val_loss: 145.9731 - val_accuracy: 0.0267\n",
      "Epoch 62/500\n",
      "2016/2016 [==============================] - 37s 18ms/step - loss: 139.7175 - accuracy: 0.0319 - val_loss: 145.8342 - val_accuracy: 0.0292\n",
      "Epoch 63/500\n",
      "2016/2016 [==============================] - 36s 18ms/step - loss: 139.7430 - accuracy: 0.0326 - val_loss: 146.5929 - val_accuracy: 0.0239\n",
      "Epoch 64/500\n",
      "2016/2016 [==============================] - 37s 18ms/step - loss: 139.6687 - accuracy: 0.0316 - val_loss: 148.7604 - val_accuracy: 0.0320\n",
      "Epoch 65/500\n",
      "2016/2016 [==============================] - 37s 18ms/step - loss: 139.0317 - accuracy: 0.0319 - val_loss: 146.3215 - val_accuracy: 0.0253\n",
      "Epoch 66/500\n",
      "2016/2016 [==============================] - 37s 18ms/step - loss: 138.5785 - accuracy: 0.0308 - val_loss: 145.0549 - val_accuracy: 0.0302\n",
      "Epoch 67/500\n",
      "2016/2016 [==============================] - 37s 18ms/step - loss: 138.5622 - accuracy: 0.0323 - val_loss: 147.0977 - val_accuracy: 0.0306\n",
      "Epoch 68/500\n",
      "2016/2016 [==============================] - 37s 18ms/step - loss: 138.0447 - accuracy: 0.0320 - val_loss: 146.5295 - val_accuracy: 0.0299\n",
      "Epoch 69/500\n",
      "2016/2016 [==============================] - 36s 18ms/step - loss: 138.3105 - accuracy: 0.0323 - val_loss: 145.9811 - val_accuracy: 0.0264\n",
      "Epoch 70/500\n",
      "2016/2016 [==============================] - 37s 18ms/step - loss: 139.2166 - accuracy: 0.0311 - val_loss: 145.6756 - val_accuracy: 0.0288\n",
      "Epoch 71/500\n",
      "2016/2016 [==============================] - 37s 18ms/step - loss: 140.0353 - accuracy: 0.0314 - val_loss: 146.3043 - val_accuracy: 0.0313\n",
      "Epoch 72/500\n",
      "2016/2016 [==============================] - 37s 18ms/step - loss: 139.1252 - accuracy: 0.0310 - val_loss: 145.2126 - val_accuracy: 0.0306\n",
      "Epoch 73/500\n",
      "2016/2016 [==============================] - 37s 18ms/step - loss: 139.6278 - accuracy: 0.0323 - val_loss: 147.1371 - val_accuracy: 0.0316\n",
      "Epoch 74/500\n",
      "2016/2016 [==============================] - 37s 18ms/step - loss: 139.3899 - accuracy: 0.0322 - val_loss: 146.1925 - val_accuracy: 0.0285\n",
      "Epoch 75/500\n",
      "2016/2016 [==============================] - 36s 18ms/step - loss: 137.4674 - accuracy: 0.0318 - val_loss: 145.4169 - val_accuracy: 0.0292\n",
      "Epoch 76/500\n",
      "2016/2016 [==============================] - 37s 18ms/step - loss: 138.2346 - accuracy: 0.0326 - val_loss: 150.2826 - val_accuracy: 0.0236\n",
      "Epoch 77/500\n",
      "2016/2016 [==============================] - 36s 18ms/step - loss: 137.7493 - accuracy: 0.0310 - val_loss: 146.6963 - val_accuracy: 0.0243\n",
      "Epoch 78/500\n",
      "2016/2016 [==============================] - 37s 18ms/step - loss: 139.2554 - accuracy: 0.0317 - val_loss: 145.9683 - val_accuracy: 0.0253\n",
      "Epoch 79/500\n",
      "2016/2016 [==============================] - 37s 18ms/step - loss: 138.0476 - accuracy: 0.0307 - val_loss: 147.1315 - val_accuracy: 0.0285\n",
      "Epoch 80/500\n",
      "2016/2016 [==============================] - 37s 18ms/step - loss: 139.4336 - accuracy: 0.0315 - val_loss: 147.9434 - val_accuracy: 0.0239\n",
      "Epoch 81/500\n",
      "2016/2016 [==============================] - 36s 18ms/step - loss: 138.6241 - accuracy: 0.0324 - val_loss: 147.1158 - val_accuracy: 0.0243\n",
      "Epoch 82/500\n",
      "2016/2016 [==============================] - 36s 18ms/step - loss: 138.4156 - accuracy: 0.0319 - val_loss: 145.7407 - val_accuracy: 0.0302\n",
      "Epoch 83/500\n",
      "2016/2016 [==============================] - 37s 18ms/step - loss: 138.0522 - accuracy: 0.0313 - val_loss: 146.3260 - val_accuracy: 0.0274\n",
      "Epoch 84/500\n",
      "2016/2016 [==============================] - 37s 18ms/step - loss: 139.3368 - accuracy: 0.0313 - val_loss: 147.3607 - val_accuracy: 0.0260\n",
      "Epoch 85/500\n",
      "2016/2016 [==============================] - 37s 18ms/step - loss: 138.3353 - accuracy: 0.0321 - val_loss: 147.1065 - val_accuracy: 0.0253\n",
      "Epoch 86/500\n",
      "2016/2016 [==============================] - 37s 18ms/step - loss: 138.6623 - accuracy: 0.0308 - val_loss: 148.5441 - val_accuracy: 0.0243\n",
      "Epoch 87/500\n",
      "2016/2016 [==============================] - 37s 18ms/step - loss: 137.8112 - accuracy: 0.0311 - val_loss: 145.8141 - val_accuracy: 0.0274\n",
      "Epoch 88/500\n",
      "2016/2016 [==============================] - 37s 18ms/step - loss: 137.8811 - accuracy: 0.0314 - val_loss: 145.5476 - val_accuracy: 0.0295\n",
      "Epoch 89/500\n",
      "2016/2016 [==============================] - 36s 18ms/step - loss: 137.7500 - accuracy: 0.0316 - val_loss: 148.8650 - val_accuracy: 0.0243\n",
      "Epoch 90/500\n",
      "2016/2016 [==============================] - 37s 18ms/step - loss: 137.5948 - accuracy: 0.0310 - val_loss: 147.7702 - val_accuracy: 0.0302\n",
      "Epoch 91/500\n",
      "2016/2016 [==============================] - 36s 18ms/step - loss: 139.4022 - accuracy: 0.0316 - val_loss: 146.5474 - val_accuracy: 0.0246\n",
      "Epoch 92/500\n",
      "2016/2016 [==============================] - 37s 18ms/step - loss: 136.9828 - accuracy: 0.0308 - val_loss: 146.0800 - val_accuracy: 0.0281\n",
      "Epoch 93/500\n",
      "2016/2016 [==============================] - 37s 18ms/step - loss: 138.1324 - accuracy: 0.0316 - val_loss: 146.4056 - val_accuracy: 0.0264\n",
      "Epoch 94/500\n",
      "2016/2016 [==============================] - 36s 18ms/step - loss: 137.8360 - accuracy: 0.0310 - val_loss: 146.2676 - val_accuracy: 0.0271\n",
      "Epoch 95/500\n",
      "2016/2016 [==============================] - 37s 18ms/step - loss: 139.1157 - accuracy: 0.0321 - val_loss: 146.3784 - val_accuracy: 0.0253\n",
      "Epoch 96/500\n",
      "2016/2016 [==============================] - 37s 18ms/step - loss: 137.3488 - accuracy: 0.0306 - val_loss: 147.9787 - val_accuracy: 0.0299\n",
      "Epoch 97/500\n",
      "2016/2016 [==============================] - 37s 18ms/step - loss: 137.2921 - accuracy: 0.0309 - val_loss: 147.5900 - val_accuracy: 0.0246\n",
      "Epoch 98/500\n",
      "2016/2016 [==============================] - 37s 18ms/step - loss: 137.5422 - accuracy: 0.0316 - val_loss: 147.2914 - val_accuracy: 0.0278\n",
      "Epoch 99/500\n",
      "2016/2016 [==============================] - 37s 18ms/step - loss: 138.4789 - accuracy: 0.0311 - val_loss: 146.6170 - val_accuracy: 0.0278\n",
      "Epoch 100/500\n",
      "2016/2016 [==============================] - 37s 18ms/step - loss: 138.4737 - accuracy: 0.0319 - val_loss: 146.4356 - val_accuracy: 0.0285\n",
      "Epoch 101/500\n",
      "2016/2016 [==============================] - 37s 18ms/step - loss: 137.8523 - accuracy: 0.0313 - val_loss: 146.3866 - val_accuracy: 0.0295\n",
      "Epoch 102/500\n",
      "2016/2016 [==============================] - 37s 18ms/step - loss: 137.4598 - accuracy: 0.0308 - val_loss: 146.8384 - val_accuracy: 0.0271\n",
      "Epoch 103/500\n",
      "2016/2016 [==============================] - 37s 18ms/step - loss: 138.2681 - accuracy: 0.0314 - val_loss: 145.9480 - val_accuracy: 0.0288\n",
      "Epoch 104/500\n",
      "2016/2016 [==============================] - 37s 18ms/step - loss: 138.1818 - accuracy: 0.0326 - val_loss: 146.3048 - val_accuracy: 0.0274\n",
      "Epoch 105/500\n",
      "2016/2016 [==============================] - 37s 18ms/step - loss: 138.3651 - accuracy: 0.0314 - val_loss: 153.3802 - val_accuracy: 0.0221\n",
      "Epoch 106/500\n",
      "2016/2016 [==============================] - 37s 18ms/step - loss: 137.1105 - accuracy: 0.0314 - val_loss: 146.5103 - val_accuracy: 0.0257\n",
      "Epoch 107/500\n",
      "2016/2016 [==============================] - 36s 18ms/step - loss: 137.8065 - accuracy: 0.0309 - val_loss: 149.1712 - val_accuracy: 0.0228\n",
      "Epoch 108/500\n",
      "2016/2016 [==============================] - 36s 18ms/step - loss: 138.3052 - accuracy: 0.0307 - val_loss: 148.5814 - val_accuracy: 0.0302\n",
      "Epoch 109/500\n",
      "2016/2016 [==============================] - 36s 18ms/step - loss: 137.1647 - accuracy: 0.0315 - val_loss: 146.9548 - val_accuracy: 0.0274\n",
      "Epoch 110/500\n",
      "2016/2016 [==============================] - 36s 18ms/step - loss: 137.0168 - accuracy: 0.0322 - val_loss: 147.2517 - val_accuracy: 0.0257\n",
      "Epoch 111/500\n",
      "2016/2016 [==============================] - 36s 18ms/step - loss: 137.0957 - accuracy: 0.0319 - val_loss: 146.8020 - val_accuracy: 0.0271\n",
      "Epoch 112/500\n",
      "2016/2016 [==============================] - 36s 18ms/step - loss: 137.7680 - accuracy: 0.0315 - val_loss: 153.2802 - val_accuracy: 0.0211\n",
      "Epoch 113/500\n",
      "2016/2016 [==============================] - 37s 18ms/step - loss: 137.9840 - accuracy: 0.0301 - val_loss: 147.9668 - val_accuracy: 0.0243\n",
      "Epoch 114/500\n",
      "2016/2016 [==============================] - 37s 18ms/step - loss: 138.9223 - accuracy: 0.0312 - val_loss: 146.7808 - val_accuracy: 0.0267\n",
      "Epoch 115/500\n",
      "2016/2016 [==============================] - 36s 18ms/step - loss: 137.9052 - accuracy: 0.0306 - val_loss: 146.6869 - val_accuracy: 0.0260\n",
      "Epoch 116/500\n",
      "1293/2016 [==================>...........] - ETA: 11s - loss: 134.7336 - accuracy: 0.0306"
     ]
    },
    {
     "ename": "KeyboardInterrupt",
     "evalue": "",
     "output_type": "error",
     "traceback": [
      "\u001b[1;31m---------------------------------------------------------------------------\u001b[0m",
      "\u001b[1;31mKeyboardInterrupt\u001b[0m                         Traceback (most recent call last)",
      "Cell \u001b[1;32mIn[21], line 154\u001b[0m\n\u001b[0;32m    152\u001b[0m \u001b[38;5;66;03m#model.summary()\u001b[39;00m\n\u001b[0;32m    153\u001b[0m model\u001b[38;5;241m.\u001b[39mcompile(loss\u001b[38;5;241m=\u001b[39m[\u001b[38;5;124m'\u001b[39m\u001b[38;5;124mmse\u001b[39m\u001b[38;5;124m'\u001b[39m], optimizer\u001b[38;5;241m=\u001b[39m\u001b[38;5;124m'\u001b[39m\u001b[38;5;124madam\u001b[39m\u001b[38;5;124m'\u001b[39m, metrics\u001b[38;5;241m=\u001b[39m[\u001b[38;5;124m'\u001b[39m\u001b[38;5;124maccuracy\u001b[39m\u001b[38;5;124m'\u001b[39m])\n\u001b[1;32m--> 154\u001b[0m history \u001b[38;5;241m=\u001b[39m \u001b[43mmodel\u001b[49m\u001b[38;5;241;43m.\u001b[39;49m\u001b[43mfit\u001b[49m\u001b[43m(\u001b[49m\u001b[43mtrain\u001b[49m\u001b[43m,\u001b[49m\u001b[43m \u001b[49m\u001b[43mepochs\u001b[49m\u001b[38;5;241;43m=\u001b[39;49m\u001b[38;5;241;43m500\u001b[39;49m\u001b[43m,\u001b[49m\u001b[43mvalidation_data\u001b[49m\u001b[38;5;241;43m=\u001b[39;49m\u001b[43m(\u001b[49m\u001b[43mval\u001b[49m\u001b[43m)\u001b[49m\u001b[43m)\u001b[49m\n",
      "File \u001b[1;32m~\\anaconda3\\envs\\Ai_gpu\\lib\\site-packages\\keras\\utils\\traceback_utils.py:65\u001b[0m, in \u001b[0;36mfilter_traceback.<locals>.error_handler\u001b[1;34m(*args, **kwargs)\u001b[0m\n\u001b[0;32m     63\u001b[0m filtered_tb \u001b[38;5;241m=\u001b[39m \u001b[38;5;28;01mNone\u001b[39;00m\n\u001b[0;32m     64\u001b[0m \u001b[38;5;28;01mtry\u001b[39;00m:\n\u001b[1;32m---> 65\u001b[0m     \u001b[38;5;28;01mreturn\u001b[39;00m fn(\u001b[38;5;241m*\u001b[39margs, \u001b[38;5;241m*\u001b[39m\u001b[38;5;241m*\u001b[39mkwargs)\n\u001b[0;32m     66\u001b[0m \u001b[38;5;28;01mexcept\u001b[39;00m \u001b[38;5;167;01mException\u001b[39;00m \u001b[38;5;28;01mas\u001b[39;00m e:\n\u001b[0;32m     67\u001b[0m     filtered_tb \u001b[38;5;241m=\u001b[39m _process_traceback_frames(e\u001b[38;5;241m.\u001b[39m__traceback__)\n",
      "File \u001b[1;32m~\\anaconda3\\envs\\Ai_gpu\\lib\\site-packages\\keras\\engine\\training.py:1564\u001b[0m, in \u001b[0;36mModel.fit\u001b[1;34m(self, x, y, batch_size, epochs, verbose, callbacks, validation_split, validation_data, shuffle, class_weight, sample_weight, initial_epoch, steps_per_epoch, validation_steps, validation_batch_size, validation_freq, max_queue_size, workers, use_multiprocessing)\u001b[0m\n\u001b[0;32m   1556\u001b[0m \u001b[38;5;28;01mwith\u001b[39;00m tf\u001b[38;5;241m.\u001b[39mprofiler\u001b[38;5;241m.\u001b[39mexperimental\u001b[38;5;241m.\u001b[39mTrace(\n\u001b[0;32m   1557\u001b[0m     \u001b[38;5;124m\"\u001b[39m\u001b[38;5;124mtrain\u001b[39m\u001b[38;5;124m\"\u001b[39m,\n\u001b[0;32m   1558\u001b[0m     epoch_num\u001b[38;5;241m=\u001b[39mepoch,\n\u001b[1;32m   (...)\u001b[0m\n\u001b[0;32m   1561\u001b[0m     _r\u001b[38;5;241m=\u001b[39m\u001b[38;5;241m1\u001b[39m,\n\u001b[0;32m   1562\u001b[0m ):\n\u001b[0;32m   1563\u001b[0m     callbacks\u001b[38;5;241m.\u001b[39mon_train_batch_begin(step)\n\u001b[1;32m-> 1564\u001b[0m     tmp_logs \u001b[38;5;241m=\u001b[39m \u001b[38;5;28;43mself\u001b[39;49m\u001b[38;5;241;43m.\u001b[39;49m\u001b[43mtrain_function\u001b[49m\u001b[43m(\u001b[49m\u001b[43miterator\u001b[49m\u001b[43m)\u001b[49m\n\u001b[0;32m   1565\u001b[0m     \u001b[38;5;28;01mif\u001b[39;00m data_handler\u001b[38;5;241m.\u001b[39mshould_sync:\n\u001b[0;32m   1566\u001b[0m         context\u001b[38;5;241m.\u001b[39masync_wait()\n",
      "File \u001b[1;32m~\\anaconda3\\envs\\Ai_gpu\\lib\\site-packages\\tensorflow\\python\\util\\traceback_utils.py:150\u001b[0m, in \u001b[0;36mfilter_traceback.<locals>.error_handler\u001b[1;34m(*args, **kwargs)\u001b[0m\n\u001b[0;32m    148\u001b[0m filtered_tb \u001b[38;5;241m=\u001b[39m \u001b[38;5;28;01mNone\u001b[39;00m\n\u001b[0;32m    149\u001b[0m \u001b[38;5;28;01mtry\u001b[39;00m:\n\u001b[1;32m--> 150\u001b[0m   \u001b[38;5;28;01mreturn\u001b[39;00m fn(\u001b[38;5;241m*\u001b[39margs, \u001b[38;5;241m*\u001b[39m\u001b[38;5;241m*\u001b[39mkwargs)\n\u001b[0;32m    151\u001b[0m \u001b[38;5;28;01mexcept\u001b[39;00m \u001b[38;5;167;01mException\u001b[39;00m \u001b[38;5;28;01mas\u001b[39;00m e:\n\u001b[0;32m    152\u001b[0m   filtered_tb \u001b[38;5;241m=\u001b[39m _process_traceback_frames(e\u001b[38;5;241m.\u001b[39m__traceback__)\n",
      "File \u001b[1;32m~\\anaconda3\\envs\\Ai_gpu\\lib\\site-packages\\tensorflow\\python\\eager\\def_function.py:915\u001b[0m, in \u001b[0;36mFunction.__call__\u001b[1;34m(self, *args, **kwds)\u001b[0m\n\u001b[0;32m    912\u001b[0m compiler \u001b[38;5;241m=\u001b[39m \u001b[38;5;124m\"\u001b[39m\u001b[38;5;124mxla\u001b[39m\u001b[38;5;124m\"\u001b[39m \u001b[38;5;28;01mif\u001b[39;00m \u001b[38;5;28mself\u001b[39m\u001b[38;5;241m.\u001b[39m_jit_compile \u001b[38;5;28;01melse\u001b[39;00m \u001b[38;5;124m\"\u001b[39m\u001b[38;5;124mnonXla\u001b[39m\u001b[38;5;124m\"\u001b[39m\n\u001b[0;32m    914\u001b[0m \u001b[38;5;28;01mwith\u001b[39;00m OptionalXlaContext(\u001b[38;5;28mself\u001b[39m\u001b[38;5;241m.\u001b[39m_jit_compile):\n\u001b[1;32m--> 915\u001b[0m   result \u001b[38;5;241m=\u001b[39m \u001b[38;5;28mself\u001b[39m\u001b[38;5;241m.\u001b[39m_call(\u001b[38;5;241m*\u001b[39margs, \u001b[38;5;241m*\u001b[39m\u001b[38;5;241m*\u001b[39mkwds)\n\u001b[0;32m    917\u001b[0m new_tracing_count \u001b[38;5;241m=\u001b[39m \u001b[38;5;28mself\u001b[39m\u001b[38;5;241m.\u001b[39mexperimental_get_tracing_count()\n\u001b[0;32m    918\u001b[0m without_tracing \u001b[38;5;241m=\u001b[39m (tracing_count \u001b[38;5;241m==\u001b[39m new_tracing_count)\n",
      "File \u001b[1;32m~\\anaconda3\\envs\\Ai_gpu\\lib\\site-packages\\tensorflow\\python\\eager\\def_function.py:947\u001b[0m, in \u001b[0;36mFunction._call\u001b[1;34m(self, *args, **kwds)\u001b[0m\n\u001b[0;32m    944\u001b[0m   \u001b[38;5;28mself\u001b[39m\u001b[38;5;241m.\u001b[39m_lock\u001b[38;5;241m.\u001b[39mrelease()\n\u001b[0;32m    945\u001b[0m   \u001b[38;5;66;03m# In this case we have created variables on the first call, so we run the\u001b[39;00m\n\u001b[0;32m    946\u001b[0m   \u001b[38;5;66;03m# defunned version which is guaranteed to never create variables.\u001b[39;00m\n\u001b[1;32m--> 947\u001b[0m   \u001b[38;5;28;01mreturn\u001b[39;00m \u001b[38;5;28mself\u001b[39m\u001b[38;5;241m.\u001b[39m_stateless_fn(\u001b[38;5;241m*\u001b[39margs, \u001b[38;5;241m*\u001b[39m\u001b[38;5;241m*\u001b[39mkwds)  \u001b[38;5;66;03m# pylint: disable=not-callable\u001b[39;00m\n\u001b[0;32m    948\u001b[0m \u001b[38;5;28;01melif\u001b[39;00m \u001b[38;5;28mself\u001b[39m\u001b[38;5;241m.\u001b[39m_stateful_fn \u001b[38;5;129;01mis\u001b[39;00m \u001b[38;5;129;01mnot\u001b[39;00m \u001b[38;5;28;01mNone\u001b[39;00m:\n\u001b[0;32m    949\u001b[0m   \u001b[38;5;66;03m# Release the lock early so that multiple threads can perform the call\u001b[39;00m\n\u001b[0;32m    950\u001b[0m   \u001b[38;5;66;03m# in parallel.\u001b[39;00m\n\u001b[0;32m    951\u001b[0m   \u001b[38;5;28mself\u001b[39m\u001b[38;5;241m.\u001b[39m_lock\u001b[38;5;241m.\u001b[39mrelease()\n",
      "File \u001b[1;32m~\\anaconda3\\envs\\Ai_gpu\\lib\\site-packages\\tensorflow\\python\\eager\\function.py:2496\u001b[0m, in \u001b[0;36mFunction.__call__\u001b[1;34m(self, *args, **kwargs)\u001b[0m\n\u001b[0;32m   2493\u001b[0m \u001b[38;5;28;01mwith\u001b[39;00m \u001b[38;5;28mself\u001b[39m\u001b[38;5;241m.\u001b[39m_lock:\n\u001b[0;32m   2494\u001b[0m   (graph_function,\n\u001b[0;32m   2495\u001b[0m    filtered_flat_args) \u001b[38;5;241m=\u001b[39m \u001b[38;5;28mself\u001b[39m\u001b[38;5;241m.\u001b[39m_maybe_define_function(args, kwargs)\n\u001b[1;32m-> 2496\u001b[0m \u001b[38;5;28;01mreturn\u001b[39;00m \u001b[43mgraph_function\u001b[49m\u001b[38;5;241;43m.\u001b[39;49m\u001b[43m_call_flat\u001b[49m\u001b[43m(\u001b[49m\n\u001b[0;32m   2497\u001b[0m \u001b[43m    \u001b[49m\u001b[43mfiltered_flat_args\u001b[49m\u001b[43m,\u001b[49m\u001b[43m \u001b[49m\u001b[43mcaptured_inputs\u001b[49m\u001b[38;5;241;43m=\u001b[39;49m\u001b[43mgraph_function\u001b[49m\u001b[38;5;241;43m.\u001b[39;49m\u001b[43mcaptured_inputs\u001b[49m\u001b[43m)\u001b[49m\n",
      "File \u001b[1;32m~\\anaconda3\\envs\\Ai_gpu\\lib\\site-packages\\tensorflow\\python\\eager\\function.py:1862\u001b[0m, in \u001b[0;36mConcreteFunction._call_flat\u001b[1;34m(self, args, captured_inputs, cancellation_manager)\u001b[0m\n\u001b[0;32m   1858\u001b[0m possible_gradient_type \u001b[38;5;241m=\u001b[39m gradients_util\u001b[38;5;241m.\u001b[39mPossibleTapeGradientTypes(args)\n\u001b[0;32m   1859\u001b[0m \u001b[38;5;28;01mif\u001b[39;00m (possible_gradient_type \u001b[38;5;241m==\u001b[39m gradients_util\u001b[38;5;241m.\u001b[39mPOSSIBLE_GRADIENT_TYPES_NONE\n\u001b[0;32m   1860\u001b[0m     \u001b[38;5;129;01mand\u001b[39;00m executing_eagerly):\n\u001b[0;32m   1861\u001b[0m   \u001b[38;5;66;03m# No tape is watching; skip to running the function.\u001b[39;00m\n\u001b[1;32m-> 1862\u001b[0m   \u001b[38;5;28;01mreturn\u001b[39;00m \u001b[38;5;28mself\u001b[39m\u001b[38;5;241m.\u001b[39m_build_call_outputs(\u001b[38;5;28;43mself\u001b[39;49m\u001b[38;5;241;43m.\u001b[39;49m\u001b[43m_inference_function\u001b[49m\u001b[38;5;241;43m.\u001b[39;49m\u001b[43mcall\u001b[49m\u001b[43m(\u001b[49m\n\u001b[0;32m   1863\u001b[0m \u001b[43m      \u001b[49m\u001b[43mctx\u001b[49m\u001b[43m,\u001b[49m\u001b[43m \u001b[49m\u001b[43margs\u001b[49m\u001b[43m,\u001b[49m\u001b[43m \u001b[49m\u001b[43mcancellation_manager\u001b[49m\u001b[38;5;241;43m=\u001b[39;49m\u001b[43mcancellation_manager\u001b[49m\u001b[43m)\u001b[49m)\n\u001b[0;32m   1864\u001b[0m forward_backward \u001b[38;5;241m=\u001b[39m \u001b[38;5;28mself\u001b[39m\u001b[38;5;241m.\u001b[39m_select_forward_and_backward_functions(\n\u001b[0;32m   1865\u001b[0m     args,\n\u001b[0;32m   1866\u001b[0m     possible_gradient_type,\n\u001b[0;32m   1867\u001b[0m     executing_eagerly)\n\u001b[0;32m   1868\u001b[0m forward_function, args_with_tangents \u001b[38;5;241m=\u001b[39m forward_backward\u001b[38;5;241m.\u001b[39mforward()\n",
      "File \u001b[1;32m~\\anaconda3\\envs\\Ai_gpu\\lib\\site-packages\\tensorflow\\python\\eager\\function.py:499\u001b[0m, in \u001b[0;36m_EagerDefinedFunction.call\u001b[1;34m(self, ctx, args, cancellation_manager)\u001b[0m\n\u001b[0;32m    497\u001b[0m \u001b[38;5;28;01mwith\u001b[39;00m _InterpolateFunctionError(\u001b[38;5;28mself\u001b[39m):\n\u001b[0;32m    498\u001b[0m   \u001b[38;5;28;01mif\u001b[39;00m cancellation_manager \u001b[38;5;129;01mis\u001b[39;00m \u001b[38;5;28;01mNone\u001b[39;00m:\n\u001b[1;32m--> 499\u001b[0m     outputs \u001b[38;5;241m=\u001b[39m \u001b[43mexecute\u001b[49m\u001b[38;5;241;43m.\u001b[39;49m\u001b[43mexecute\u001b[49m\u001b[43m(\u001b[49m\n\u001b[0;32m    500\u001b[0m \u001b[43m        \u001b[49m\u001b[38;5;28;43mstr\u001b[39;49m\u001b[43m(\u001b[49m\u001b[38;5;28;43mself\u001b[39;49m\u001b[38;5;241;43m.\u001b[39;49m\u001b[43msignature\u001b[49m\u001b[38;5;241;43m.\u001b[39;49m\u001b[43mname\u001b[49m\u001b[43m)\u001b[49m\u001b[43m,\u001b[49m\n\u001b[0;32m    501\u001b[0m \u001b[43m        \u001b[49m\u001b[43mnum_outputs\u001b[49m\u001b[38;5;241;43m=\u001b[39;49m\u001b[38;5;28;43mself\u001b[39;49m\u001b[38;5;241;43m.\u001b[39;49m\u001b[43m_num_outputs\u001b[49m\u001b[43m,\u001b[49m\n\u001b[0;32m    502\u001b[0m \u001b[43m        \u001b[49m\u001b[43minputs\u001b[49m\u001b[38;5;241;43m=\u001b[39;49m\u001b[43margs\u001b[49m\u001b[43m,\u001b[49m\n\u001b[0;32m    503\u001b[0m \u001b[43m        \u001b[49m\u001b[43mattrs\u001b[49m\u001b[38;5;241;43m=\u001b[39;49m\u001b[43mattrs\u001b[49m\u001b[43m,\u001b[49m\n\u001b[0;32m    504\u001b[0m \u001b[43m        \u001b[49m\u001b[43mctx\u001b[49m\u001b[38;5;241;43m=\u001b[39;49m\u001b[43mctx\u001b[49m\u001b[43m)\u001b[49m\n\u001b[0;32m    505\u001b[0m   \u001b[38;5;28;01melse\u001b[39;00m:\n\u001b[0;32m    506\u001b[0m     outputs \u001b[38;5;241m=\u001b[39m execute\u001b[38;5;241m.\u001b[39mexecute_with_cancellation(\n\u001b[0;32m    507\u001b[0m         \u001b[38;5;28mstr\u001b[39m(\u001b[38;5;28mself\u001b[39m\u001b[38;5;241m.\u001b[39msignature\u001b[38;5;241m.\u001b[39mname),\n\u001b[0;32m    508\u001b[0m         num_outputs\u001b[38;5;241m=\u001b[39m\u001b[38;5;28mself\u001b[39m\u001b[38;5;241m.\u001b[39m_num_outputs,\n\u001b[1;32m   (...)\u001b[0m\n\u001b[0;32m    511\u001b[0m         ctx\u001b[38;5;241m=\u001b[39mctx,\n\u001b[0;32m    512\u001b[0m         cancellation_manager\u001b[38;5;241m=\u001b[39mcancellation_manager)\n",
      "File \u001b[1;32m~\\anaconda3\\envs\\Ai_gpu\\lib\\site-packages\\tensorflow\\python\\eager\\execute.py:54\u001b[0m, in \u001b[0;36mquick_execute\u001b[1;34m(op_name, num_outputs, inputs, attrs, ctx, name)\u001b[0m\n\u001b[0;32m     52\u001b[0m \u001b[38;5;28;01mtry\u001b[39;00m:\n\u001b[0;32m     53\u001b[0m   ctx\u001b[38;5;241m.\u001b[39mensure_initialized()\n\u001b[1;32m---> 54\u001b[0m   tensors \u001b[38;5;241m=\u001b[39m \u001b[43mpywrap_tfe\u001b[49m\u001b[38;5;241;43m.\u001b[39;49m\u001b[43mTFE_Py_Execute\u001b[49m\u001b[43m(\u001b[49m\u001b[43mctx\u001b[49m\u001b[38;5;241;43m.\u001b[39;49m\u001b[43m_handle\u001b[49m\u001b[43m,\u001b[49m\u001b[43m \u001b[49m\u001b[43mdevice_name\u001b[49m\u001b[43m,\u001b[49m\u001b[43m \u001b[49m\u001b[43mop_name\u001b[49m\u001b[43m,\u001b[49m\n\u001b[0;32m     55\u001b[0m \u001b[43m                                      \u001b[49m\u001b[43minputs\u001b[49m\u001b[43m,\u001b[49m\u001b[43m \u001b[49m\u001b[43mattrs\u001b[49m\u001b[43m,\u001b[49m\u001b[43m \u001b[49m\u001b[43mnum_outputs\u001b[49m\u001b[43m)\u001b[49m\n\u001b[0;32m     56\u001b[0m \u001b[38;5;28;01mexcept\u001b[39;00m core\u001b[38;5;241m.\u001b[39m_NotOkStatusException \u001b[38;5;28;01mas\u001b[39;00m e:\n\u001b[0;32m     57\u001b[0m   \u001b[38;5;28;01mif\u001b[39;00m name \u001b[38;5;129;01mis\u001b[39;00m \u001b[38;5;129;01mnot\u001b[39;00m \u001b[38;5;28;01mNone\u001b[39;00m:\n",
      "\u001b[1;31mKeyboardInterrupt\u001b[0m: "
     ]
    }
   ],
   "source": [
    "# final_cnn = Sequential()\n",
    "\n",
    "# # Input layer with 32 filters, followed by an AveragePooling2D layer.\n",
    "# final_cnn.add(Conv2D(filters=32, kernel_size=3, activation='relu', input_shape=(120, 120, 3)))    # 3rd dim = 1 for grayscale images.\n",
    "# final_cnn.add(AveragePooling2D(pool_size=(2,2)))\n",
    "\n",
    "# # Three Conv2D layers with filters increasing by a factor of 2 for every successive Conv2D layer.\n",
    "# final_cnn.add(Conv2D(filters=64, kernel_size=3, activation='relu'))\n",
    "# final_cnn.add(AveragePooling2D(pool_size=(2,2)))\n",
    "\n",
    "# final_cnn.add(Conv2D(filters=128, kernel_size=3, activation='relu'))\n",
    "# final_cnn.add(AveragePooling2D(pool_size=(2,2)))\n",
    "\n",
    "# final_cnn.add(Conv2D(filters=256, kernel_size=3, activation='relu'))\n",
    "# final_cnn.add(AveragePooling2D(pool_size=(2,2)))\n",
    "\n",
    "# # A GlobalAveragePooling2D layer before going into Dense layers below.\n",
    "# # GlobalAveragePooling2D layer gives no. of outputs equal to no. of filters in last Conv2D layer above (256).\n",
    "# final_cnn.add(GlobalAveragePooling2D())\n",
    "\n",
    "# # One Dense layer with 132 nodes so as to taper down the no. of nodes from no. of outputs of GlobalAveragePooling2D layer above towards no. of nodes in output layer below (7).\n",
    "# final_cnn.add(Dense(132, activation='relu'))\n",
    "\n",
    "# # Output layer with 7 nodes (equal to the no. of classes).\n",
    "# final_cnn.add(Dense(11, activation='softmax'))\n",
    "# final_cnn.compile(loss='categorical_crossentropy', optimizer='adam', metrics=['accuracy'])\n",
    "\n",
    "# # Fitting the above created CNN model.\n",
    "\n",
    "# final_cnn_history = final_cnn.fit(train,validation_data=val,epochs=60)\n",
    "\n",
    "\n",
    "# gender_model = Sequential()\n",
    "\n",
    "# gender_model.add(Conv2D(24, kernel_size=3, activation='relu', input_shape=(200,200,1)))\n",
    "\n",
    "# gender_model.add(MaxPool2D(pool_size=3, strides=2))\n",
    "# gender_model.add(Conv2D(64, kernel_size=3, activation='relu'))\n",
    "# gender_model.add(MaxPool2D(pool_size=3, strides=2))\n",
    "\n",
    "# gender_model.add(Conv2D(128, kernel_size=3, activation='relu'))\n",
    "# gender_model.add(MaxPool2D(pool_size=3, strides=2))\n",
    "\n",
    "# gender_model.add(Conv2D(256, kernel_size=3, activation='relu'))\n",
    "# gender_model.add(MaxPool2D(pool_size=3, strides=2))\n",
    "\n",
    "# gender_model.add(Conv2D(512, kernel_size=3, activation='relu'))\n",
    "# gender_model.add(MaxPool2D(pool_size=3, strides=2))\n",
    "\n",
    "# # gender_model.add(Conv2D(1024, kernel_size=3, activation='relu'))\n",
    "# # gender_model.add(MaxPool2D(pool_size=3, strides=2))\n",
    "\n",
    "# gender_model.add(Flatten())\n",
    "# gender_model.add(Dropout(0.2))\n",
    "# gender_model.add(Dense(512, activation='relu'))\n",
    "# gender_model.add(Dense(10, activation='softmax', name='gender'))\n",
    "# print(gender_model.summary())\n",
    "# gender_model.compile(optimizer='adam', loss='mean_squared_error', metrics=['accuracy'])\n",
    "\n",
    "# history_gender = gender_model.fit(train,\n",
    "#                         validation_data=(val), epochs=20, callbacks=tf.keras.callbacks.EarlyStopping(monitor='val_accuracy', patience=15, restore_best_weights=True))\n",
    "\n",
    "\n",
    "\n",
    "\n",
    "\n",
    "\n",
    "\n",
    "# age_model = Sequential()\n",
    "# age_model.add(Conv2D(128, kernel_size=3, activation='relu', input_shape=(120,120,1)))\n",
    "# #age_model.add(Conv2D(128, kernel_size=3, activation='relu'))\n",
    "# age_model.add(MaxPool2D(pool_size=3, strides=2))\n",
    "\n",
    "# age_model.add(Conv2D(128, kernel_size=3, activation='relu'))\n",
    "# #age_model.add(Conv2D(128, kernel_size=3, activation='relu'))\n",
    "# age_model.add(MaxPool2D(pool_size=3, strides=2))\n",
    "              \n",
    "# age_model.add(Conv2D(256, kernel_size=3, activation='relu'))\n",
    "# #age_model.add(Conv2D(256, kernel_size=3, activation='relu'))\n",
    "# age_model.add(MaxPool2D(pool_size=3, strides=2))\n",
    "\n",
    "# age_model.add(Conv2D(512, kernel_size=3, activation='relu'))\n",
    "# #age_model.add(Conv2D(512, kernel_size=3, activation='relu'))\n",
    "# age_model.add(MaxPool2D(pool_size=3, strides=2))\n",
    "\n",
    "# age_model.add(Flatten())\n",
    "# age_model.add(Dropout(0.2))\n",
    "# age_model.add(Dense(512, activation='relu'))\n",
    "\n",
    "# age_model.add(Dense(1, activation='linear', name='age'))\n",
    "              \n",
    "# age_model.compile(optimizer='adam', loss='mse', metrics=['accuracy'])\n",
    "# print(age_model.summary())              \n",
    "                           \n",
    "# history_age = age_model.fit(train,\n",
    "#                         validation_data=(val), epochs=50)\n",
    "\n",
    "\n",
    "\n",
    "\n",
    "\n",
    "# gender_model = Sequential()\n",
    "\n",
    "# gender_model.add(Conv2D(24, kernel_size=3, activation='relu', input_shape=(120,120,1)))\n",
    "\n",
    "# gender_model.add(MaxPool2D(pool_size=3, strides=2))\n",
    "# gender_model.add(Conv2D(64, kernel_size=3, activation='relu'))\n",
    "# gender_model.add(MaxPool2D(pool_size=3, strides=2))\n",
    "\n",
    "# gender_model.add(Conv2D(128, kernel_size=3, activation='relu'))\n",
    "# gender_model.add(MaxPool2D(pool_size=3, strides=2))\n",
    "\n",
    "# gender_model.add(Conv2D(256, kernel_size=3, activation='relu'))\n",
    "# gender_model.add(MaxPool2D(pool_size=3, strides=2))\n",
    "\n",
    "# # gender_model.add(Conv2D(512, kernel_size=3, activation='relu'))\n",
    "# # gender_model.add(MaxPool2D(pool_size=3, strides=2))\n",
    "\n",
    "# # gender_model.add(Conv2D(1024, kernel_size=3, activation='relu'))\n",
    "# # gender_model.add(MaxPool2D(pool_size=3, strides=2))\n",
    "\n",
    "# gender_model.add(Flatten())\n",
    "# gender_model.add(Dropout(0.2))\n",
    "# gender_model.add(Dense(1024, activation='relu'))\n",
    "# gender_model.add(Dense(1, activation='linear', name='gender'))\n",
    "# print(gender_model.summary())\n",
    "# gender_model.compile(optimizer='adam', loss='mse', metrics=['accuracy'])\n",
    "\n",
    "# history_gender = gender_model.fit(train,\n",
    "#                         validation_data=(val), epochs=50,  callbacks=tf.keras.callbacks.EarlyStopping(monitor='val_accuracy', patience=25, restore_best_weights=True))\n",
    "\n",
    "\n",
    "\n",
    "\n",
    "\n",
    "\n",
    "model = VGG19(input_shape=(120, 120, 3), include_top=False)\n",
    "\n",
    "for layer in model.layers:\n",
    "    layer.trainable = False\n",
    "    \n",
    "\n",
    "# Classification Model\n",
    "f1 = GlobalMaxPooling2D()(model.output)\n",
    "x = model.output\n",
    "f1 = Flatten()(x)\n",
    "# class1 = Dense(512, activation='relu')(f1)\n",
    "class1 = Dropout(0.2)(f1)\n",
    "class2 = Dense(1, activation='linear', name='gender')(class1)\n",
    "\n",
    "model = Model(inputs=model.input, outputs= class2)\n",
    "#model.summary()\n",
    "model.compile(loss=['mse'], optimizer='adam', metrics=['accuracy'])\n",
    "history = model.fit(train, epochs=500,validation_data=(val))\n"
   ]
  },
  {
   "cell_type": "code",
   "execution_count": 42,
   "id": "bb7cbd5d-42f2-4c83-8509-3f0245dc62eb",
   "metadata": {},
   "outputs": [
    {
     "data": {
      "text/plain": [
       "0       50\n",
       "1       18\n",
       "2       16\n",
       "3        3\n",
       "4       47\n",
       "        ..\n",
       "2840    53\n",
       "2841    30\n",
       "2842    56\n",
       "2843    29\n",
       "2844     8\n",
       "Name: age, Length: 2845, dtype: object"
      ]
     },
     "execution_count": 42,
     "metadata": {},
     "output_type": "execute_result"
    }
   ],
   "source": [
    "gender_model.predict()"
   ]
  },
  {
   "cell_type": "code",
   "execution_count": 16,
   "id": "c10d5e51-4c85-4748-8644-c52aa2a0f35c",
   "metadata": {},
   "outputs": [
    {
     "name": "stdout",
     "output_type": "stream",
     "text": [
      "1/1 [==============================] - 0s 384ms/step\n"
     ]
    },
    {
     "data": {
      "text/plain": [
       "array([[46.02379]], dtype=float32)"
      ]
     },
     "execution_count": 16,
     "metadata": {},
     "output_type": "execute_result"
    },
    {
     "data": {
      "image/png": "[encoded data removed]",
      "text/plain": [
       "<Figure size 640x480 with 1 Axes>"
      ]
     },
     "metadata": {},
     "output_type": "display_data"
    }
   ],
   "source": [
    "img = cv2.imread(r\"F:\\ai\\Age & Gendder Detection\\UTKFace\\116_1_3_20170120134744096.jpg.chip.jpg\")\n",
    "img = cv2.resize(img, (120, 120))\n",
    "img = cv2.cvtColor(img, cv2.COLOR_BGR2GRAY)\n",
    "plt.imshow(img)\n",
    "img = np.array(img)/255\n",
    "img = img.reshape(1, 120, 120, 1)\n",
    "gender_model.predict(img)"
   ]
  },
  {
   "cell_type": "code",
   "execution_count": null,
   "id": "0354a66d-105c-4ddb-a45b-6094f5ade6c3",
   "metadata": {},
   "outputs": [],
   "source": [
    "plt.plot(history_gender.history['accuracy'])\n",
    "plt.plot(history_gender.history['val_accuracy'])\n",
    "plt.title('Model accuracy')\n",
    "plt.ylabel('Accuracy')\n",
    "plt.xlabel('Epoch')\n",
    "plt.legend(['Train', 'Validation'], loc='upper left')\n",
    "plt.show()\n",
    "\n",
    "# Plot the training and validation loss over time\n",
    "plt.plot(gender_model.history['loss'])\n",
    "plt.plot(history_gender.history['val_loss'])\n",
    "plt.title('Model loss')\n",
    "plt.ylabel('Loss')\n",
    "plt.xlabel('Epoch')\n",
    "plt.legend(['Train', 'Validation'], loc='upper left')\n",
    "plt.show()"
   ]
  },
  {
   "cell_type": "code",
   "execution_count": 63,
   "id": "e0c88869-e7df-4b79-ba3c-ba5a740c3759",
   "metadata": {},
   "outputs": [
    {
     "name": "stdout",
     "output_type": "stream",
     "text": [
      "1/1 [==============================] - 0s 21ms/step\n"
     ]
    },
    {
     "data": {
      "text/plain": [
       "1.4754587784409523"
      ]
     },
     "execution_count": 63,
     "metadata": {},
     "output_type": "execute_result"
    },
    {
     "data": {
      "image/png": "[encoded data removed]",
      "text/plain": [
       "<Figure size 640x480 with 1 Axes>"
      ]
     },
     "metadata": {},
     "output_type": "display_data"
    }
   ],
   "source": [
    "img = cv2.imread(r\"F:\\ai\\Age & Gendder Detection\\UTKFace\\35_1_1_20170116165647705.jpg.chip.jpg\")\n",
    "img = cv2.resize(img, (120, 120))\n",
    "img = cv2.cvtColor(img, cv2.COLOR_BGR2RGB)\n",
    "plt.imshow(img)\n",
    "img = np.array(img)/255\n",
    "img = img.reshape(1, 120, 120, 3)\n",
    "\n",
    "age_model.predict(img)[0][0]*100"
   ]
  },
  {
   "cell_type": "code",
   "execution_count": null,
   "id": "ca80ec7f-b858-479b-86ba-f2e229cbf180",
   "metadata": {},
   "outputs": [],
   "source": []
  },
  {
   "cell_type": "code",
   "execution_count": null,
   "id": "928c05a8-8c0e-4701-9258-f1edf7a8fcbf",
   "metadata": {},
   "outputs": [],
   "source": []
  },
  {
   "cell_type": "code",
   "execution_count": null,
   "id": "caaf3531-c53f-41ac-a023-97a38b2272ff",
   "metadata": {},
   "outputs": [],
   "source": []
  },
  {
   "cell_type": "code",
   "execution_count": null,
   "id": "efb538d4-9f40-467a-a0f4-10612979189f",
   "metadata": {},
   "outputs": [],
   "source": []
  },
  {
   "cell_type": "code",
   "execution_count": null,
   "id": "604f2010-782c-4c7e-bc8d-00d00218f047",
   "metadata": {},
   "outputs": [],
   "source": []
  },
  {
   "cell_type": "code",
   "execution_count": null,
   "id": "f26f82f3-b573-4221-9059-aea7975f3f2c",
   "metadata": {},
   "outputs": [],
   "source": []
  }
 ],
 "metadata": {
  "kernelspec": {
   "display_name": "Ai_gpu",
   "language": "python",
   "name": "ai_gpu"
  },
  "language_info": {
   "codemirror_mode": {
    "name": "ipython",
    "version": 3
   },
   "file_extension": ".py",
   "mimetype": "text/x-python",
   "name": "python",
   "nbconvert_exporter": "python",
   "pygments_lexer": "ipython3",
   "version": "3.9.16"
  }
 },
 "nbformat": 4,
 "nbformat_minor": 5
}
