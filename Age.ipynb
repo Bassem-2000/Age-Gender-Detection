{
 "cells": [
  {
   "cell_type": "code",
   "execution_count": 106,
   "id": "dbb0aa55-58bb-4ad1-a737-5b494581962d",
   "metadata": {},
   "outputs": [],
   "source": [
    "import tensorflow as tf\n",
    "import pandas as pd\n",
    "import numpy as np\n",
    "import matplotlib.pyplot as plt\n",
    "from keras.models import Sequential,load_model,Model\n",
    "from keras.layers import *\n",
    "from keras.preprocessing.image import ImageDataGenerator\n",
    "from keras.utils import load_img\n",
    "import cv2\n",
    "import glob\n",
    "import os\n",
    "from sklearn.model_selection import train_test_split\n",
    "from keras.applications import *\n",
    "import keras"
   ]
  },
  {
   "cell_type": "code",
   "execution_count": 107,
   "id": "e16ee8c5-8727-4d21-b39c-6000080eb721",
   "metadata": {},
   "outputs": [],
   "source": [
    "def class_labels_reassign(age):\n",
    "\n",
    "    if 1 <= age <= 10:\n",
    "        return 0\n",
    "    elif 11 <= age <= 20:\n",
    "        return 1\n",
    "    elif 21 <= age <= 30:\n",
    "        return 2\n",
    "    elif 31 <= age <= 40:\n",
    "        return 3\n",
    "    elif 41 <= age <= 50:\n",
    "        return 4\n",
    "    elif 51 <= age <= 60:\n",
    "        return 5\n",
    "    elif 61 <= age <= 70:\n",
    "        return 6\n",
    "    elif 71 <= age <= 80:\n",
    "        return 7\n",
    "    elif 81 <= age <= 90:\n",
    "        return 8\n",
    "    elif 91 <= age <= 100:\n",
    "        return 9"
   ]
  },
  {
   "cell_type": "code",
   "execution_count": 108,
   "id": "992f4132-d633-4218-8b29-9d60c1f12705",
   "metadata": {},
   "outputs": [],
   "source": [
    "age = []\n",
    "Images = []\n",
    "for i in glob.glob('UTKFace/*.jpg'):\n",
    "    if os.path.exists(i):\n",
    "        x = int(i.split('\\\\')[1].split('_')[0])\n",
    "        if x >= 18 and x <= 80 :\n",
    "            age.append(x)\n",
    "            Images.append(i)"
   ]
  },
  {
   "cell_type": "code",
   "execution_count": 109,
   "id": "0fdaf448-2e72-4a07-9172-bd670c048b0d",
   "metadata": {},
   "outputs": [
    {
     "data": {
      "text/plain": [
       "80"
      ]
     },
     "execution_count": 109,
     "metadata": {},
     "output_type": "execute_result"
    }
   ],
   "source": [
    "max(age)"
   ]
  },
  {
   "cell_type": "code",
   "execution_count": 110,
   "id": "af98d546-02a8-4925-8fcd-47759ab48040",
   "metadata": {},
   "outputs": [
    {
     "data": {
      "text/plain": [
       "array([18, 19, 20, 21, 22, 23, 24, 25, 26, 27, 28, 29, 30, 31, 32, 33, 34,\n",
       "       35, 36, 37, 38, 39, 40, 41, 42, 43, 44, 45, 46, 47, 48, 49, 50, 51,\n",
       "       52, 53, 54, 55, 56, 57, 58, 59, 60, 61, 62, 63, 64, 65, 66, 67, 68,\n",
       "       69, 70, 71, 72, 73, 74, 75, 76, 77, 78, 79, 80])"
      ]
     },
     "execution_count": 110,
     "metadata": {},
     "output_type": "execute_result"
    }
   ],
   "source": [
    "age = np.array(age)\n",
    "np.unique(age)"
   ]
  },
  {
   "cell_type": "code",
   "execution_count": 111,
   "id": "ec59fee5-1e30-44cb-8ea0-61988b406d27",
   "metadata": {},
   "outputs": [],
   "source": [
    "x_train, x_test, y_train, y_test = train_test_split(Images, age, train_size=0.8, shuffle=True, random_state=0)\n",
    "x_train, x_val, y_train, y_val = train_test_split(x_train, y_train, train_size=0.85, shuffle=True, random_state=0)"
   ]
  },
  {
   "cell_type": "code",
   "execution_count": 112,
   "id": "1296d1aa-33d6-4e3b-865d-6d6cf10e7085",
   "metadata": {},
   "outputs": [
    {
     "name": "stdout",
     "output_type": "stream",
     "text": [
      "Found 12875 validated image filenames belonging to 7 classes.\n"
     ]
    }
   ],
   "source": [
    "data_gen = ImageDataGenerator(rescale=1./255)\n",
    "df_train = pd.DataFrame({'filename': x_train, 'age': y_train})\n",
    "df_train['age'] = df_train['age']\n",
    "df_train['filename'] = df_train['filename'].astype('str')\n",
    "df_train['target'] = df_train['age'].map(class_labels_reassign) \n",
    "df_train['target'] = df_train['target'].astype('str')\n",
    "train = data_gen.flow_from_dataframe(df_train, x_col='filename', y_col='target', target_size=(120, 120), batch_size=32, color_mode='rgb')"
   ]
  },
  {
   "cell_type": "code",
   "execution_count": 113,
   "id": "dcd7fd9f-0ac2-4cbe-99cb-62f090a06226",
   "metadata": {},
   "outputs": [
    {
     "name": "stdout",
     "output_type": "stream",
     "text": [
      "Found 3787 validated image filenames belonging to 7 classes.\n"
     ]
    }
   ],
   "source": [
    "df_test = pd.DataFrame({'filename': x_test, 'age': y_test})\n",
    "df_test['age'] = df_test['age']\n",
    "df_test['filename'] = df_test['filename'].astype('str')\n",
    "df_test['target'] = df_test['age'].map(class_labels_reassign) \n",
    "df_test['target'] = df_test['target'].astype('str')\n",
    "test = data_gen.flow_from_dataframe(df_test, x_col='filename', y_col='target', target_size=(120, 120), batch_size=32, color_mode='rgb')"
   ]
  },
  {
   "cell_type": "code",
   "execution_count": 114,
   "id": "381a49da-e06e-48f3-afec-2ee801927c17",
   "metadata": {},
   "outputs": [
    {
     "name": "stdout",
     "output_type": "stream",
     "text": [
      "Found 2273 validated image filenames belonging to 7 classes.\n"
     ]
    }
   ],
   "source": [
    "df_val = pd.DataFrame({'filename': x_val, 'age': y_val})\n",
    "df_val['age'] = df_val['age']\n",
    "df_val['filename'] = df_val['filename'].astype('str')\n",
    "df_val['target'] = df_val['age'].map(class_labels_reassign) \n",
    "df_val['target'] = df_val['target'].astype('str')\n",
    "val = data_gen.flow_from_dataframe(df_val, x_col='filename', y_col='target', target_size=(120, 120), batch_size=32, color_mode='rgb')"
   ]
  },
  {
   "cell_type": "code",
   "execution_count": 125,
   "id": "c7a17616-0a2c-49d8-acb9-37d4481f870b",
   "metadata": {},
   "outputs": [
    {
     "name": "stdout",
     "output_type": "stream",
     "text": [
      "Epoch 1/60\n",
      "403/403 [==============================] - 23s 55ms/step - loss: 1.6112 - accuracy: 0.4126 - val_loss: 1.6105 - val_accuracy: 0.3902\n",
      "Epoch 2/60\n",
      "403/403 [==============================] - 22s 54ms/step - loss: 1.5776 - accuracy: 0.4137 - val_loss: 1.5895 - val_accuracy: 0.3902\n",
      "Epoch 3/60\n",
      "403/403 [==============================] - 22s 55ms/step - loss: 1.5587 - accuracy: 0.4146 - val_loss: 1.5452 - val_accuracy: 0.3933\n",
      "Epoch 4/60\n",
      "403/403 [==============================] - 22s 55ms/step - loss: 1.5374 - accuracy: 0.4164 - val_loss: 1.5286 - val_accuracy: 0.3920\n",
      "Epoch 5/60\n",
      "403/403 [==============================] - 21s 53ms/step - loss: 1.5139 - accuracy: 0.4223 - val_loss: 1.5130 - val_accuracy: 0.4039\n",
      "Epoch 6/60\n",
      "403/403 [==============================] - 23s 56ms/step - loss: 1.4873 - accuracy: 0.4290 - val_loss: 1.5119 - val_accuracy: 0.4083\n",
      "Epoch 7/60\n",
      "403/403 [==============================] - 21s 51ms/step - loss: 1.4237 - accuracy: 0.4440 - val_loss: 1.4328 - val_accuracy: 0.4430\n",
      "Epoch 8/60\n",
      "403/403 [==============================] - 22s 55ms/step - loss: 1.3780 - accuracy: 0.4607 - val_loss: 1.4026 - val_accuracy: 0.4307\n",
      "Epoch 9/60\n",
      "403/403 [==============================] - 22s 54ms/step - loss: 1.3433 - accuracy: 0.4688 - val_loss: 1.3449 - val_accuracy: 0.4606\n",
      "Epoch 10/60\n",
      "403/403 [==============================] - 21s 52ms/step - loss: 1.3177 - accuracy: 0.4795 - val_loss: 1.3192 - val_accuracy: 0.4760\n",
      "Epoch 11/60\n",
      "403/403 [==============================] - 23s 58ms/step - loss: 1.3057 - accuracy: 0.4809 - val_loss: 1.3152 - val_accuracy: 0.4685\n",
      "Epoch 12/60\n",
      "403/403 [==============================] - 21s 51ms/step - loss: 1.2773 - accuracy: 0.4911 - val_loss: 1.2914 - val_accuracy: 0.4787\n",
      "Epoch 13/60\n",
      "403/403 [==============================] - 20s 51ms/step - loss: 1.2550 - accuracy: 0.5005 - val_loss: 1.2659 - val_accuracy: 0.4826\n",
      "Epoch 14/60\n",
      "403/403 [==============================] - 22s 55ms/step - loss: 1.2411 - accuracy: 0.5002 - val_loss: 1.2597 - val_accuracy: 0.4765\n",
      "Epoch 15/60\n",
      "403/403 [==============================] - 22s 54ms/step - loss: 1.2269 - accuracy: 0.5122 - val_loss: 1.2433 - val_accuracy: 0.4932\n",
      "Epoch 16/60\n",
      "403/403 [==============================] - 22s 54ms/step - loss: 1.2069 - accuracy: 0.5121 - val_loss: 1.2437 - val_accuracy: 0.4817\n",
      "Epoch 17/60\n",
      "403/403 [==============================] - 21s 53ms/step - loss: 1.2009 - accuracy: 0.5109 - val_loss: 1.2395 - val_accuracy: 0.4958\n",
      "Epoch 18/60\n",
      "403/403 [==============================] - 22s 54ms/step - loss: 1.1749 - accuracy: 0.5202 - val_loss: 1.2664 - val_accuracy: 0.4875\n",
      "Epoch 19/60\n",
      "403/403 [==============================] - 22s 53ms/step - loss: 1.1688 - accuracy: 0.5240 - val_loss: 1.2350 - val_accuracy: 0.5002\n",
      "Epoch 20/60\n",
      "403/403 [==============================] - 21s 52ms/step - loss: 1.1461 - accuracy: 0.5274 - val_loss: 1.2423 - val_accuracy: 0.4901\n",
      "Epoch 21/60\n",
      "403/403 [==============================] - 23s 56ms/step - loss: 1.1423 - accuracy: 0.5325 - val_loss: 1.2199 - val_accuracy: 0.5002\n",
      "Epoch 22/60\n",
      "403/403 [==============================] - 26s 64ms/step - loss: 1.1220 - accuracy: 0.5358 - val_loss: 1.2508 - val_accuracy: 0.4901\n",
      "Epoch 23/60\n",
      "403/403 [==============================] - 37s 93ms/step - loss: 1.1144 - accuracy: 0.5406 - val_loss: 1.2312 - val_accuracy: 0.4936\n",
      "Epoch 24/60\n",
      "403/403 [==============================] - 40s 98ms/step - loss: 1.0974 - accuracy: 0.5431 - val_loss: 1.2498 - val_accuracy: 0.4954\n",
      "Epoch 25/60\n",
      "403/403 [==============================] - 36s 89ms/step - loss: 1.0911 - accuracy: 0.5508 - val_loss: 1.2024 - val_accuracy: 0.4945\n",
      "Epoch 26/60\n",
      "403/403 [==============================] - 36s 89ms/step - loss: 1.0788 - accuracy: 0.5570 - val_loss: 1.2010 - val_accuracy: 0.5059\n",
      "Epoch 27/60\n",
      "403/403 [==============================] - 35s 86ms/step - loss: 1.0699 - accuracy: 0.5562 - val_loss: 1.2173 - val_accuracy: 0.4993\n",
      "Epoch 28/60\n",
      "403/403 [==============================] - 42s 106ms/step - loss: 1.0532 - accuracy: 0.5657 - val_loss: 1.2152 - val_accuracy: 0.5055\n",
      "Epoch 29/60\n",
      "403/403 [==============================] - 49s 122ms/step - loss: 1.0475 - accuracy: 0.5667 - val_loss: 1.1995 - val_accuracy: 0.5235\n",
      "Epoch 30/60\n",
      "403/403 [==============================] - 59s 146ms/step - loss: 1.0355 - accuracy: 0.5751 - val_loss: 1.2013 - val_accuracy: 0.5086\n",
      "Epoch 31/60\n",
      "403/403 [==============================] - 49s 121ms/step - loss: 1.0130 - accuracy: 0.5785 - val_loss: 1.2891 - val_accuracy: 0.4963\n",
      "Epoch 32/60\n",
      "403/403 [==============================] - 48s 119ms/step - loss: 1.0041 - accuracy: 0.5843 - val_loss: 1.2303 - val_accuracy: 0.5059\n",
      "Epoch 33/60\n",
      "403/403 [==============================] - 53s 131ms/step - loss: 0.9861 - accuracy: 0.5915 - val_loss: 1.2306 - val_accuracy: 0.5095\n",
      "Epoch 34/60\n",
      "403/403 [==============================] - 47s 117ms/step - loss: 0.9696 - accuracy: 0.5967 - val_loss: 1.2445 - val_accuracy: 0.5139\n",
      "Epoch 35/60\n",
      "403/403 [==============================] - 38s 95ms/step - loss: 0.9579 - accuracy: 0.5995 - val_loss: 1.2258 - val_accuracy: 0.5103\n",
      "Epoch 36/60\n",
      "403/403 [==============================] - 38s 93ms/step - loss: 0.9461 - accuracy: 0.6068 - val_loss: 1.2471 - val_accuracy: 0.5007\n",
      "Epoch 37/60\n",
      "403/403 [==============================] - 43s 106ms/step - loss: 0.9337 - accuracy: 0.6120 - val_loss: 1.2647 - val_accuracy: 0.5007\n",
      "Epoch 38/60\n",
      "403/403 [==============================] - 41s 102ms/step - loss: 0.9128 - accuracy: 0.6170 - val_loss: 1.2465 - val_accuracy: 0.5046\n",
      "Epoch 39/60\n",
      "403/403 [==============================] - 41s 102ms/step - loss: 0.8973 - accuracy: 0.6244 - val_loss: 1.2830 - val_accuracy: 0.5147\n",
      "Epoch 40/60\n",
      "403/403 [==============================] - 40s 100ms/step - loss: 0.8895 - accuracy: 0.6273 - val_loss: 1.2702 - val_accuracy: 0.4879\n",
      "Epoch 41/60\n",
      "403/403 [==============================] - 40s 98ms/step - loss: 0.8637 - accuracy: 0.6408 - val_loss: 1.2849 - val_accuracy: 0.5134\n",
      "Epoch 42/60\n",
      "403/403 [==============================] - 38s 94ms/step - loss: 0.8457 - accuracy: 0.6493 - val_loss: 1.2718 - val_accuracy: 0.5143\n",
      "Epoch 43/60\n",
      "403/403 [==============================] - 36s 90ms/step - loss: 0.8271 - accuracy: 0.6532 - val_loss: 1.3571 - val_accuracy: 0.4756\n",
      "Epoch 44/60\n",
      "403/403 [==============================] - 22s 53ms/step - loss: 0.8243 - accuracy: 0.6568 - val_loss: 1.3162 - val_accuracy: 0.5055\n",
      "Epoch 45/60\n",
      "403/403 [==============================] - 21s 51ms/step - loss: 0.7970 - accuracy: 0.6675 - val_loss: 1.3978 - val_accuracy: 0.4817\n",
      "Epoch 46/60\n",
      "403/403 [==============================] - 20s 50ms/step - loss: 0.7759 - accuracy: 0.6753 - val_loss: 1.3441 - val_accuracy: 0.4954\n",
      "Epoch 47/60\n",
      "403/403 [==============================] - 20s 50ms/step - loss: 0.7455 - accuracy: 0.6921 - val_loss: 1.4961 - val_accuracy: 0.5117\n",
      "Epoch 48/60\n",
      "403/403 [==============================] - 20s 51ms/step - loss: 0.7314 - accuracy: 0.6980 - val_loss: 1.3680 - val_accuracy: 0.4958\n",
      "Epoch 49/60\n",
      "403/403 [==============================] - 21s 52ms/step - loss: 0.7051 - accuracy: 0.7105 - val_loss: 1.4794 - val_accuracy: 0.4857\n",
      "Epoch 50/60\n",
      "403/403 [==============================] - 20s 51ms/step - loss: 0.6912 - accuracy: 0.7160 - val_loss: 1.4365 - val_accuracy: 0.4989\n",
      "Epoch 51/60\n",
      "403/403 [==============================] - 21s 51ms/step - loss: 0.6635 - accuracy: 0.7252 - val_loss: 1.6359 - val_accuracy: 0.4870\n",
      "Epoch 52/60\n",
      "403/403 [==============================] - 21s 51ms/step - loss: 0.6527 - accuracy: 0.7283 - val_loss: 1.5805 - val_accuracy: 0.5015\n",
      "Epoch 53/60\n",
      "403/403 [==============================] - 20s 49ms/step - loss: 0.6304 - accuracy: 0.7417 - val_loss: 1.6547 - val_accuracy: 0.4831\n",
      "Epoch 54/60\n",
      "403/403 [==============================] - 19s 48ms/step - loss: 0.6089 - accuracy: 0.7499 - val_loss: 1.5978 - val_accuracy: 0.4985\n",
      "Epoch 55/60\n",
      "403/403 [==============================] - 17s 42ms/step - loss: 0.6023 - accuracy: 0.7501 - val_loss: 1.5403 - val_accuracy: 0.4743\n",
      "Epoch 56/60\n",
      "403/403 [==============================] - 18s 44ms/step - loss: 0.5797 - accuracy: 0.7616 - val_loss: 1.6840 - val_accuracy: 0.5051\n",
      "Epoch 57/60\n",
      "403/403 [==============================] - 28s 70ms/step - loss: 0.5497 - accuracy: 0.7761 - val_loss: 1.6911 - val_accuracy: 0.4804\n",
      "Epoch 58/60\n",
      "403/403 [==============================] - 20s 48ms/step - loss: 0.5102 - accuracy: 0.7959 - val_loss: 1.7848 - val_accuracy: 0.4835\n",
      "Epoch 59/60\n",
      "403/403 [==============================] - 17s 41ms/step - loss: 0.5037 - accuracy: 0.7965 - val_loss: 1.7288 - val_accuracy: 0.4773\n",
      "Epoch 60/60\n",
      "403/403 [==============================] - 17s 41ms/step - loss: 0.4815 - accuracy: 0.8039 - val_loss: 1.8178 - val_accuracy: 0.4875\n"
     ]
    }
   ],
   "source": [
    "final_cnn = Sequential()\n",
    "\n",
    "# Input layer with 32 filters, followed by an AveragePooling2D layer.\n",
    "final_cnn.add(Conv2D(filters=32, kernel_size=3, activation='relu', input_shape=(120, 120, 3)))    # 3rd dim = 1 for grayscale images.\n",
    "final_cnn.add(AveragePooling2D(pool_size=(2,2)))\n",
    "\n",
    "# Three Conv2D layers with filters increasing by a factor of 2 for every successive Conv2D layer.\n",
    "final_cnn.add(Conv2D(filters=64, kernel_size=3, activation='relu'))\n",
    "final_cnn.add(AveragePooling2D(pool_size=(2,2)))\n",
    "\n",
    "final_cnn.add(Conv2D(filters=128, kernel_size=3, activation='relu'))\n",
    "final_cnn.add(AveragePooling2D(pool_size=(2,2)))\n",
    "\n",
    "final_cnn.add(Conv2D(filters=256, kernel_size=3, activation='relu'))\n",
    "final_cnn.add(AveragePooling2D(pool_size=(2,2)))\n",
    "\n",
    "# A GlobalAveragePooling2D layer before going into Dense layers below.\n",
    "# GlobalAveragePooling2D layer gives no. of outputs equal to no. of filters in last Conv2D layer above (256).\n",
    "final_cnn.add(GlobalAveragePooling2D())\n",
    "\n",
    "# One Dense layer with 132 nodes so as to taper down the no. of nodes from no. of outputs of GlobalAveragePooling2D layer above towards no. of nodes in output layer below (7).\n",
    "final_cnn.add(Dense(132, activation='relu'))\n",
    "\n",
    "# Output layer with 7 nodes (equal to the no. of classes).\n",
    "final_cnn.add(Dense(7, activation='softmax'))\n",
    "final_cnn.compile(loss='categorical_crossentropy', optimizer='adam', metrics=['accuracy'])\n",
    "\n",
    "# Fitting the above created CNN model.\n",
    "\n",
    "final_cnn_history = final_cnn.fit(train,validation_data=val,epochs=60)"
   ]
  },
  {
   "cell_type": "code",
   "execution_count": 63,
   "id": "e0c88869-e7df-4b79-ba3c-ba5a740c3759",
   "metadata": {},
   "outputs": [
    {
     "name": "stdout",
     "output_type": "stream",
     "text": [
      "1/1 [==============================] - 0s 21ms/step\n"
     ]
    },
    {
     "data": {
      "text/plain": [
       "1.4754587784409523"
      ]
     },
     "execution_count": 63,
     "metadata": {},
     "output_type": "execute_result"
    },
    {
     "data": {
      "image/png": "[encoded data removed]",
      "text/plain": [
       "<Figure size 640x480 with 1 Axes>"
      ]
     },
     "metadata": {},
     "output_type": "display_data"
    }
   ],
   "source": [
    "img = cv2.imread(r\"F:\\ai\\Age & Gendder Detection\\UTKFace\\35_1_1_20170116165647705.jpg.chip.jpg\")\n",
    "img = cv2.resize(img, (120, 120))\n",
    "img = cv2.cvtColor(img, cv2.COLOR_BGR2RGB)\n",
    "plt.imshow(img)\n",
    "img = np.array(img)/255\n",
    "img = img.reshape(1, 120, 120, 3)\n",
    "\n",
    "age_model.predict(img)[0][0]*100"
   ]
  },
  {
   "cell_type": "code",
   "execution_count": null,
   "id": "ca80ec7f-b858-479b-86ba-f2e229cbf180",
   "metadata": {},
   "outputs": [],
   "source": []
  },
  {
   "cell_type": "code",
   "execution_count": null,
   "id": "928c05a8-8c0e-4701-9258-f1edf7a8fcbf",
   "metadata": {},
   "outputs": [],
   "source": []
  },
  {
   "cell_type": "code",
   "execution_count": null,
   "id": "caaf3531-c53f-41ac-a023-97a38b2272ff",
   "metadata": {},
   "outputs": [],
   "source": []
  },
  {
   "cell_type": "code",
   "execution_count": null,
   "id": "efb538d4-9f40-467a-a0f4-10612979189f",
   "metadata": {},
   "outputs": [],
   "source": []
  },
  {
   "cell_type": "code",
   "execution_count": null,
   "id": "604f2010-782c-4c7e-bc8d-00d00218f047",
   "metadata": {},
   "outputs": [],
   "source": []
  },
  {
   "cell_type": "code",
   "execution_count": null,
   "id": "f26f82f3-b573-4221-9059-aea7975f3f2c",
   "metadata": {},
   "outputs": [],
   "source": []
  }
 ],
 "metadata": {
  "kernelspec": {
   "display_name": "Ai_gpu",
   "language": "python",
   "name": "ai_gpu"
  },
  "language_info": {
   "codemirror_mode": {
    "name": "ipython",
    "version": 3
   },
   "file_extension": ".py",
   "mimetype": "text/x-python",
   "name": "python",
   "nbconvert_exporter": "python",
   "pygments_lexer": "ipython3",
   "version": "3.9.16"
  }
 },
 "nbformat": 4,
 "nbformat_minor": 5
}
